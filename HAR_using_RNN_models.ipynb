{
  "nbformat": 4,
  "nbformat_minor": 0,
  "metadata": {
    "colab": {
      "name": "HAR  using RNN models",
      "provenance": [],
      "collapsed_sections": [
        "nC2Ve-JWUqiQ",
        "sVQJEUl47L4Q",
        "pyYQ9jVK7Ayl",
        "pYs15M_w67ok",
        "6eJbWbjH4mx3"
      ],
      "toc_visible": true,
      "include_colab_link": true
    },
    "kernelspec": {
      "name": "python3",
      "display_name": "Python 3"
    },
    "language_info": {
      "name": "python"
    }
  },
  "cells": [
    {
      "cell_type": "markdown",
      "metadata": {
        "id": "view-in-github",
        "colab_type": "text"
      },
      "source": [
        "<a href=\"https://colab.research.google.com/github/saloni-git/human-activity-recognition-using-different-RNN-models/blob/main/HAR_using_RNN_models.ipynb\" target=\"_parent\"><img src=\"https://colab.research.google.com/assets/colab-badge.svg\" alt=\"Open In Colab\"/></a>"
      ]
    },
    {
      "cell_type": "markdown",
      "metadata": {
        "id": "tsbpPQI7gf-8"
      },
      "source": [
        "Firstly , we will download the dataset.\n"
      ]
    },
    {
      "cell_type": "code",
      "metadata": {
        "id": "OiIpqJAgI0gW"
      },
      "source": [
        "import math\n",
        "from sklearn import preprocessing\n",
        "from sklearn.preprocessing import MinMaxScaler, StandardScaler\n",
        "from sklearn.ensemble import AdaBoostRegressor, RandomForestRegressor\n",
        "from scipy.signal import savgol_filter\n",
        "from scipy import signal\n",
        "from scipy.spatial import distance\n",
        "from sklearn.model_selection import train_test_split\n",
        "# Create the LSTM model\n",
        "from tensorflow import keras, convert_to_tensor, float32, make_ndarray\n",
        "from tensorflow.compat.v1 import Session\n",
        "from tensorflow.keras import layers, backend\n",
        "from tensorflow.keras.utils import plot_model\n",
        "from tensorflow.keras.models import Sequential, Model\n",
        "from tensorflow.keras.layers import Dense, Flatten, Input, GlobalAveragePooling1D, Dropout\n",
        "from tensorflow.keras.layers import LSTM, GRU, Conv1D, MaxPooling1D, MaxPool1D, TimeDistributed, RepeatVector, Conv2D\n",
        "from keras.layers.merge import concatenate\n",
        "from tensorflow.keras.wrappers.scikit_learn import KerasRegressor\n",
        "import random\n"
      ],
      "execution_count": null,
      "outputs": []
    },
    {
      "cell_type": "code",
      "metadata": {
        "colab": {
          "base_uri": "https://localhost:8080/"
        },
        "id": "IelKjQ3qepG_",
        "outputId": "bb4fd5fd-7c47-46c9-e83b-ae61a35e94da"
      },
      "source": [
        "! wget https://archive.ics.uci.edu/ml/machine-learning-databases/00240/UCI%20HAR%20Dataset.zip"
      ],
      "execution_count": null,
      "outputs": [
        {
          "output_type": "stream",
          "text": [
            "--2021-04-11 14:48:45--  https://archive.ics.uci.edu/ml/machine-learning-databases/00240/UCI%20HAR%20Dataset.zip\n",
            "Resolving archive.ics.uci.edu (archive.ics.uci.edu)... 128.195.10.252\n",
            "Connecting to archive.ics.uci.edu (archive.ics.uci.edu)|128.195.10.252|:443... connected.\n",
            "HTTP request sent, awaiting response... 200 OK\n",
            "Length: 60999314 (58M) [application/x-httpd-php]\n",
            "Saving to: ‘UCI HAR Dataset.zip’\n",
            "\n",
            "UCI HAR Dataset.zip 100%[===================>]  58.17M  33.9MB/s    in 1.7s    \n",
            "\n",
            "2021-04-11 14:48:47 (33.9 MB/s) - ‘UCI HAR Dataset.zip’ saved [60999314/60999314]\n",
            "\n"
          ],
          "name": "stdout"
        }
      ]
    },
    {
      "cell_type": "code",
      "metadata": {
        "colab": {
          "base_uri": "https://localhost:8080/"
        },
        "id": "H-7prelugefp",
        "outputId": "ea0fc8e6-d3b7-46ab-ae8a-215e2919eb6f"
      },
      "source": [
        "#unzip it\n",
        "!unzip \"UCI HAR Dataset.zip\""
      ],
      "execution_count": null,
      "outputs": [
        {
          "output_type": "stream",
          "text": [
            "Archive:  UCI HAR Dataset.zip\n",
            "   creating: UCI HAR Dataset/\n",
            "  inflating: UCI HAR Dataset/.DS_Store  \n",
            "   creating: __MACOSX/\n",
            "   creating: __MACOSX/UCI HAR Dataset/\n",
            "  inflating: __MACOSX/UCI HAR Dataset/._.DS_Store  \n",
            "  inflating: UCI HAR Dataset/activity_labels.txt  \n",
            "  inflating: __MACOSX/UCI HAR Dataset/._activity_labels.txt  \n",
            "  inflating: UCI HAR Dataset/features.txt  \n",
            "  inflating: __MACOSX/UCI HAR Dataset/._features.txt  \n",
            "  inflating: UCI HAR Dataset/features_info.txt  \n",
            "  inflating: __MACOSX/UCI HAR Dataset/._features_info.txt  \n",
            "  inflating: UCI HAR Dataset/README.txt  \n",
            "  inflating: __MACOSX/UCI HAR Dataset/._README.txt  \n",
            "   creating: UCI HAR Dataset/test/\n",
            "   creating: UCI HAR Dataset/test/Inertial Signals/\n",
            "  inflating: UCI HAR Dataset/test/Inertial Signals/body_acc_x_test.txt  \n",
            "   creating: __MACOSX/UCI HAR Dataset/test/\n",
            "   creating: __MACOSX/UCI HAR Dataset/test/Inertial Signals/\n",
            "  inflating: __MACOSX/UCI HAR Dataset/test/Inertial Signals/._body_acc_x_test.txt  \n",
            "  inflating: UCI HAR Dataset/test/Inertial Signals/body_acc_y_test.txt  \n",
            "  inflating: __MACOSX/UCI HAR Dataset/test/Inertial Signals/._body_acc_y_test.txt  \n",
            "  inflating: UCI HAR Dataset/test/Inertial Signals/body_acc_z_test.txt  \n",
            "  inflating: __MACOSX/UCI HAR Dataset/test/Inertial Signals/._body_acc_z_test.txt  \n",
            "  inflating: UCI HAR Dataset/test/Inertial Signals/body_gyro_x_test.txt  \n",
            "  inflating: __MACOSX/UCI HAR Dataset/test/Inertial Signals/._body_gyro_x_test.txt  \n",
            "  inflating: UCI HAR Dataset/test/Inertial Signals/body_gyro_y_test.txt  \n",
            "  inflating: __MACOSX/UCI HAR Dataset/test/Inertial Signals/._body_gyro_y_test.txt  \n",
            "  inflating: UCI HAR Dataset/test/Inertial Signals/body_gyro_z_test.txt  \n",
            "  inflating: __MACOSX/UCI HAR Dataset/test/Inertial Signals/._body_gyro_z_test.txt  \n",
            "  inflating: UCI HAR Dataset/test/Inertial Signals/total_acc_x_test.txt  \n",
            "  inflating: __MACOSX/UCI HAR Dataset/test/Inertial Signals/._total_acc_x_test.txt  \n",
            "  inflating: UCI HAR Dataset/test/Inertial Signals/total_acc_y_test.txt  \n",
            "  inflating: __MACOSX/UCI HAR Dataset/test/Inertial Signals/._total_acc_y_test.txt  \n",
            "  inflating: UCI HAR Dataset/test/Inertial Signals/total_acc_z_test.txt  \n",
            "  inflating: __MACOSX/UCI HAR Dataset/test/Inertial Signals/._total_acc_z_test.txt  \n",
            "  inflating: __MACOSX/UCI HAR Dataset/test/._Inertial Signals  \n",
            "  inflating: UCI HAR Dataset/test/subject_test.txt  \n",
            "  inflating: __MACOSX/UCI HAR Dataset/test/._subject_test.txt  \n",
            "  inflating: UCI HAR Dataset/test/X_test.txt  \n",
            "  inflating: __MACOSX/UCI HAR Dataset/test/._X_test.txt  \n",
            "  inflating: UCI HAR Dataset/test/y_test.txt  \n",
            "  inflating: __MACOSX/UCI HAR Dataset/test/._y_test.txt  \n",
            "  inflating: __MACOSX/UCI HAR Dataset/._test  \n",
            "   creating: UCI HAR Dataset/train/\n",
            "   creating: UCI HAR Dataset/train/Inertial Signals/\n",
            "  inflating: UCI HAR Dataset/train/Inertial Signals/body_acc_x_train.txt  \n",
            "   creating: __MACOSX/UCI HAR Dataset/train/\n",
            "   creating: __MACOSX/UCI HAR Dataset/train/Inertial Signals/\n",
            "  inflating: __MACOSX/UCI HAR Dataset/train/Inertial Signals/._body_acc_x_train.txt  \n",
            "  inflating: UCI HAR Dataset/train/Inertial Signals/body_acc_y_train.txt  \n",
            "  inflating: __MACOSX/UCI HAR Dataset/train/Inertial Signals/._body_acc_y_train.txt  \n",
            "  inflating: UCI HAR Dataset/train/Inertial Signals/body_acc_z_train.txt  \n",
            "  inflating: __MACOSX/UCI HAR Dataset/train/Inertial Signals/._body_acc_z_train.txt  \n",
            "  inflating: UCI HAR Dataset/train/Inertial Signals/body_gyro_x_train.txt  \n",
            "  inflating: __MACOSX/UCI HAR Dataset/train/Inertial Signals/._body_gyro_x_train.txt  \n",
            "  inflating: UCI HAR Dataset/train/Inertial Signals/body_gyro_y_train.txt  \n",
            "  inflating: __MACOSX/UCI HAR Dataset/train/Inertial Signals/._body_gyro_y_train.txt  \n",
            "  inflating: UCI HAR Dataset/train/Inertial Signals/body_gyro_z_train.txt  \n",
            "  inflating: __MACOSX/UCI HAR Dataset/train/Inertial Signals/._body_gyro_z_train.txt  \n",
            "  inflating: UCI HAR Dataset/train/Inertial Signals/total_acc_x_train.txt  \n",
            "  inflating: __MACOSX/UCI HAR Dataset/train/Inertial Signals/._total_acc_x_train.txt  \n",
            "  inflating: UCI HAR Dataset/train/Inertial Signals/total_acc_y_train.txt  \n",
            "  inflating: __MACOSX/UCI HAR Dataset/train/Inertial Signals/._total_acc_y_train.txt  \n",
            "  inflating: UCI HAR Dataset/train/Inertial Signals/total_acc_z_train.txt  \n",
            "  inflating: __MACOSX/UCI HAR Dataset/train/Inertial Signals/._total_acc_z_train.txt  \n",
            "  inflating: __MACOSX/UCI HAR Dataset/train/._Inertial Signals  \n",
            "  inflating: UCI HAR Dataset/train/subject_train.txt  \n",
            "  inflating: __MACOSX/UCI HAR Dataset/train/._subject_train.txt  \n",
            "  inflating: UCI HAR Dataset/train/X_train.txt  \n",
            "  inflating: __MACOSX/UCI HAR Dataset/train/._X_train.txt  \n",
            "  inflating: UCI HAR Dataset/train/y_train.txt  \n",
            "  inflating: __MACOSX/UCI HAR Dataset/train/._y_train.txt  \n",
            "  inflating: __MACOSX/UCI HAR Dataset/._train  \n",
            "  inflating: __MACOSX/._UCI HAR Dataset  \n"
          ],
          "name": "stdout"
        }
      ]
    },
    {
      "cell_type": "code",
      "metadata": {
        "id": "wGJrK8-OgqHo"
      },
      "source": [
        "#moving it into our current working directory\n",
        "!mv \"UCI HAR Dataset\" HARDataset/"
      ],
      "execution_count": null,
      "outputs": []
    },
    {
      "cell_type": "code",
      "metadata": {
        "id": "xkFaURSDg8Uo"
      },
      "source": [
        "from numpy import std\n",
        "from numpy import dstack\n",
        "from pandas import read_csv"
      ],
      "execution_count": null,
      "outputs": []
    },
    {
      "cell_type": "markdown",
      "metadata": {
        "id": "K2uGRroZiuwL"
      },
      "source": [
        "Here we will try to load a group of files, such as all of the body acceleration data files as a single group.\n"
      ]
    },
    {
      "cell_type": "code",
      "metadata": {
        "colab": {
          "base_uri": "https://localhost:8080/"
        },
        "id": "32LHK7qHhiOo",
        "outputId": "fa06283a-86d9-4bc8-c477-e79a76c38984"
      },
      "source": [
        "# load a single file as a numpy array\n",
        "def load_file(filepath):\n",
        "\tdataframe = read_csv(filepath, header=None, delim_whitespace=True)\n",
        "\treturn dataframe.values\n",
        " \n",
        "# load a list of files, such as x, y, z data for a given variable\n",
        "def load_group(filenames, prefix=''):\n",
        "\tloaded = list()\n",
        "\tfor name in filenames:\n",
        "\t\tdata = load_file(prefix + name)\n",
        "\t\tloaded.append(data)\n",
        "\t# stack group so that features are the 3rd dimension\n",
        "\tloaded = dstack(loaded)\n",
        "\treturn loaded\n",
        " \n",
        "# load the total acc data\n",
        "filenames = ['total_acc_x_train.txt', 'total_acc_y_train.txt', 'total_acc_z_train.txt']\n",
        "total_acc = load_group(filenames, prefix='HARDataset/train/Inertial Signals/')\n",
        "print(total_acc.shape)"
      ],
      "execution_count": null,
      "outputs": [
        {
          "output_type": "stream",
          "text": [
            "(7352, 128, 3)\n"
          ],
          "name": "stdout"
        }
      ]
    },
    {
      "cell_type": "code",
      "metadata": {
        "colab": {
          "base_uri": "https://localhost:8080/"
        },
        "id": "gMrkyS3QmMVI",
        "outputId": "becb7d18-2737-42eb-81e8-ae330bf6df49"
      },
      "source": [
        "# load a single file as a numpy array\n",
        "def load_file(filepath):\n",
        "\tdataframe = read_csv(filepath, header=None, delim_whitespace=True)\n",
        "\treturn dataframe.values\n",
        " \n",
        "# load a list of files, such as x, y, z data for a given variable\n",
        "def load_group(filenames, prefix=''):\n",
        "\tloaded = list()\n",
        "\tfor name in filenames:\n",
        "\t\tdata = load_file(prefix + name)\n",
        "\t\tloaded.append(data)\n",
        "\t# stack group so that features are the 3rd dimension\n",
        "\tloaded = dstack(loaded)\n",
        "\treturn loaded\n",
        " \n",
        "# load a dataset group, such as train or test\n",
        "def load_dataset(group, prefix=''):\n",
        "\tfilepath = prefix + group + '/Inertial Signals/'\n",
        "\t# load all 9 files as a single array\n",
        "\tfilenames = list()\n",
        "\t# total acceleration\n",
        "\tfilenames += ['total_acc_x_'+group+'.txt', 'total_acc_y_'+group+'.txt', 'total_acc_z_'+group+'.txt']\n",
        "\t# body acceleration\n",
        "\tfilenames += ['body_acc_x_'+group+'.txt', 'body_acc_y_'+group+'.txt', 'body_acc_z_'+group+'.txt']\n",
        "\t# body gyroscope\n",
        "\tfilenames += ['body_gyro_x_'+group+'.txt', 'body_gyro_y_'+group+'.txt', 'body_gyro_z_'+group+'.txt']\n",
        "\t# load input data\n",
        "\tX = load_group(filenames, filepath)\n",
        "\t# load class output\n",
        "\ty = load_file(prefix + group + '/y_'+group+'.txt')\n",
        "\treturn X, y\n",
        "\n",
        "# load all train\n",
        "trainX, trainy = load_dataset('train', 'HARDataset/')\n",
        "print(trainX.shape, trainy.shape)\n",
        "input_shape=(trainX.shape[1:])\n",
        "# load all test\n",
        "testX, testy = load_dataset('test', 'HARDataset/')\n",
        "print(testX.shape, testy.shape)"
      ],
      "execution_count": null,
      "outputs": [
        {
          "output_type": "stream",
          "text": [
            "(7352, 128, 9) (7352, 1)\n",
            "(2947, 128, 9) (2947, 1)\n"
          ],
          "name": "stdout"
        }
      ]
    },
    {
      "cell_type": "code",
      "metadata": {
        "id": "OnN__Gha1iRy"
      },
      "source": [
        "testr = testy\n",
        "trainr = trainy"
      ],
      "execution_count": null,
      "outputs": []
    },
    {
      "cell_type": "code",
      "metadata": {
        "id": "MY_NERSU_3cL"
      },
      "source": [
        "testr = testr-1"
      ],
      "execution_count": null,
      "outputs": []
    },
    {
      "cell_type": "code",
      "metadata": {
        "id": "2ecinqAatDYG"
      },
      "source": [
        "from keras.utils import np_utils"
      ],
      "execution_count": null,
      "outputs": []
    },
    {
      "cell_type": "code",
      "metadata": {
        "id": "nqosLA4cuOa2"
      },
      "source": [
        "# zero-offset class values\n",
        "testy = testy - 1\n",
        "trainy = trainy - 1"
      ],
      "execution_count": null,
      "outputs": []
    },
    {
      "cell_type": "code",
      "metadata": {
        "colab": {
          "base_uri": "https://localhost:8080/"
        },
        "id": "sBa9nGK8tdFA",
        "outputId": "a2d3acae-bdbc-4074-91f4-8299bbafc542"
      },
      "source": [
        "#one hot encoding\n",
        "testy = np_utils.to_categorical(testy)\n",
        "testy.shape"
      ],
      "execution_count": null,
      "outputs": [
        {
          "output_type": "execute_result",
          "data": {
            "text/plain": [
              "(2947, 6)"
            ]
          },
          "metadata": {
            "tags": []
          },
          "execution_count": 78
        }
      ]
    },
    {
      "cell_type": "code",
      "metadata": {
        "colab": {
          "base_uri": "https://localhost:8080/"
        },
        "id": "K5kaMQJX1bGl",
        "outputId": "5d38ac44-61f1-48d1-aa37-9def42880a26"
      },
      "source": [
        "#one hot encoding\n",
        "trainy = np_utils.to_categorical(trainy)\n",
        "trainy.shape"
      ],
      "execution_count": null,
      "outputs": [
        {
          "output_type": "execute_result",
          "data": {
            "text/plain": [
              "(7352, 6)"
            ]
          },
          "metadata": {
            "tags": []
          },
          "execution_count": 79
        }
      ]
    },
    {
      "cell_type": "code",
      "metadata": {
        "id": "Me5fDOrWh9DV"
      },
      "source": [
        "from keras.models import Sequential\n",
        "from keras.layers import Dense,Flatten"
      ],
      "execution_count": null,
      "outputs": []
    },
    {
      "cell_type": "code",
      "metadata": {
        "id": "MH0GULoro6Lj"
      },
      "source": [
        "import matplotlib.pyplot as plt\n",
        "from mlxtend.plotting import plot_confusion_matrix\n",
        "from sklearn.metrics import confusion_matrix"
      ],
      "execution_count": null,
      "outputs": []
    },
    {
      "cell_type": "code",
      "metadata": {
        "id": "eF3UNWuar5Rk"
      },
      "source": [
        "import numpy as np\n"
      ],
      "execution_count": null,
      "outputs": []
    },
    {
      "cell_type": "markdown",
      "metadata": {
        "id": "KP_uPO1x3SGI"
      },
      "source": [
        "# **RNN model**\n"
      ]
    },
    {
      "cell_type": "code",
      "metadata": {
        "id": "0Y_Fo-zJ3Qqn"
      },
      "source": [
        "from keras.layers import SimpleRNN\n",
        "import tensorflow as tf"
      ],
      "execution_count": null,
      "outputs": []
    },
    {
      "cell_type": "code",
      "metadata": {
        "id": "UMw1DIZk4hyf"
      },
      "source": [
        "#building a RNN \n",
        "#model creation\n",
        "modelrnn = Sequential()\n",
        "modelrnn.add(SimpleRNN(units = 128,input_shape=(128,9)))\n",
        "modelrnn.add(Dense(units = 64, activation='relu'))\n",
        "modelrnn.add(Dense(units = 6 , activation='sigmoid'))"
      ],
      "execution_count": null,
      "outputs": []
    },
    {
      "cell_type": "code",
      "metadata": {
        "colab": {
          "base_uri": "https://localhost:8080/"
        },
        "id": "qNi9dTQP5U1y",
        "outputId": "6c53ac4d-d134-408d-b834-9d68fa8cbdd7"
      },
      "source": [
        "modelrnn.summary()"
      ],
      "execution_count": null,
      "outputs": [
        {
          "output_type": "stream",
          "text": [
            "Model: \"sequential\"\n",
            "_________________________________________________________________\n",
            "Layer (type)                 Output Shape              Param #   \n",
            "=================================================================\n",
            "simple_rnn (SimpleRNN)       (None, 128)               17664     \n",
            "_________________________________________________________________\n",
            "dense (Dense)                (None, 64)                8256      \n",
            "_________________________________________________________________\n",
            "dense_1 (Dense)              (None, 6)                 390       \n",
            "=================================================================\n",
            "Total params: 26,310\n",
            "Trainable params: 26,310\n",
            "Non-trainable params: 0\n",
            "_________________________________________________________________\n"
          ],
          "name": "stdout"
        }
      ]
    },
    {
      "cell_type": "code",
      "metadata": {
        "colab": {
          "base_uri": "https://localhost:8080/",
          "height": 369
        },
        "id": "OJ8pzJsqJJgO",
        "outputId": "c1dc691d-3a22-4eea-9866-d9fa2645f154"
      },
      "source": [
        "tf.keras.utils.plot_model(modelrnn)"
      ],
      "execution_count": null,
      "outputs": [
        {
          "output_type": "execute_result",
          "data": {
            "image/png": "[encoded data removed]",
            "text/plain": [
              "<IPython.core.display.Image object>"
            ]
          },
          "metadata": {
            "tags": []
          },
          "execution_count": 23
        }
      ]
    },
    {
      "cell_type": "code",
      "metadata": {
        "id": "qx4eBsCC5gn4"
      },
      "source": [
        "#compile model\n",
        "modelrnn.compile(optimizer='adam',loss='categorical_crossentropy', metrics=['accuracy'])"
      ],
      "execution_count": null,
      "outputs": []
    },
    {
      "cell_type": "code",
      "metadata": {
        "colab": {
          "base_uri": "https://localhost:8080/"
        },
        "id": "iKLOEYp66I9h",
        "outputId": "24833b59-aa70-4ea1-f62e-5826246c578d"
      },
      "source": [
        "#fitting model\n",
        "history=modelrnn.fit(trainX,trainy,epochs=20,validation_data=(testX,testy))"
      ],
      "execution_count": null,
      "outputs": [
        {
          "output_type": "stream",
          "text": [
            "Epoch 1/20\n",
            "230/230 [==============================] - 8s 36ms/step - loss: 0.6204 - accuracy: 0.7325 - val_loss: 0.7876 - val_accuracy: 0.6742\n",
            "Epoch 2/20\n",
            "230/230 [==============================] - 8s 36ms/step - loss: 0.6112 - accuracy: 0.7437 - val_loss: 0.7033 - val_accuracy: 0.7078\n",
            "Epoch 3/20\n",
            "230/230 [==============================] - 8s 37ms/step - loss: 0.5797 - accuracy: 0.7490 - val_loss: 0.7588 - val_accuracy: 0.7075\n",
            "Epoch 4/20\n",
            "230/230 [==============================] - 8s 37ms/step - loss: 0.7720 - accuracy: 0.6763 - val_loss: 0.8323 - val_accuracy: 0.6478\n",
            "Epoch 5/20\n",
            "230/230 [==============================] - 8s 37ms/step - loss: 0.6433 - accuracy: 0.7350 - val_loss: 0.7788 - val_accuracy: 0.6820\n",
            "Epoch 6/20\n",
            "230/230 [==============================] - 8s 37ms/step - loss: 0.6011 - accuracy: 0.7433 - val_loss: 0.6934 - val_accuracy: 0.7129\n",
            "Epoch 7/20\n",
            "230/230 [==============================] - 9s 37ms/step - loss: 0.5725 - accuracy: 0.7575 - val_loss: 0.7295 - val_accuracy: 0.7472\n",
            "Epoch 8/20\n",
            "230/230 [==============================] - 8s 37ms/step - loss: 0.6595 - accuracy: 0.7293 - val_loss: 0.8851 - val_accuracy: 0.6278\n",
            "Epoch 9/20\n",
            "230/230 [==============================] - 8s 37ms/step - loss: 0.6016 - accuracy: 0.7465 - val_loss: 0.7153 - val_accuracy: 0.7173\n",
            "Epoch 10/20\n",
            "230/230 [==============================] - 8s 37ms/step - loss: 0.5457 - accuracy: 0.7699 - val_loss: 0.6901 - val_accuracy: 0.7180\n",
            "Epoch 11/20\n",
            "230/230 [==============================] - 8s 36ms/step - loss: 0.5454 - accuracy: 0.7765 - val_loss: 0.6414 - val_accuracy: 0.7380\n",
            "Epoch 12/20\n",
            "230/230 [==============================] - 8s 36ms/step - loss: 0.4947 - accuracy: 0.8039 - val_loss: 0.6271 - val_accuracy: 0.7743\n",
            "Epoch 13/20\n",
            "230/230 [==============================] - 8s 37ms/step - loss: 0.4253 - accuracy: 0.8315 - val_loss: 0.5405 - val_accuracy: 0.7971\n",
            "Epoch 14/20\n",
            "230/230 [==============================] - 8s 37ms/step - loss: 0.4582 - accuracy: 0.8243 - val_loss: 0.6034 - val_accuracy: 0.7743\n",
            "Epoch 15/20\n",
            "230/230 [==============================] - 8s 36ms/step - loss: 0.4282 - accuracy: 0.8368 - val_loss: 0.7930 - val_accuracy: 0.8107\n",
            "Epoch 16/20\n",
            "230/230 [==============================] - 8s 37ms/step - loss: 0.6960 - accuracy: 0.7372 - val_loss: 0.8102 - val_accuracy: 0.6675\n",
            "Epoch 17/20\n",
            "230/230 [==============================] - 8s 37ms/step - loss: 0.8295 - accuracy: 0.6730 - val_loss: 1.3330 - val_accuracy: 0.4717\n",
            "Epoch 18/20\n",
            "230/230 [==============================] - 8s 36ms/step - loss: 0.8622 - accuracy: 0.6417 - val_loss: 0.7744 - val_accuracy: 0.6624\n",
            "Epoch 19/20\n",
            "230/230 [==============================] - 9s 37ms/step - loss: 0.6676 - accuracy: 0.7159 - val_loss: 0.7651 - val_accuracy: 0.6766\n",
            "Epoch 20/20\n",
            "230/230 [==============================] - 8s 37ms/step - loss: 0.6022 - accuracy: 0.7399 - val_loss: 0.7131 - val_accuracy: 0.6966\n"
          ],
          "name": "stdout"
        }
      ]
    },
    {
      "cell_type": "code",
      "metadata": {
        "colab": {
          "base_uri": "https://localhost:8080/"
        },
        "id": "9YkjlFTI-FEq",
        "outputId": "d6d3ed40-6b82-4e78-8f54-4a0465dd414f"
      },
      "source": [
        "modelrnn.evaluate(testX, testy)"
      ],
      "execution_count": null,
      "outputs": [
        {
          "output_type": "stream",
          "text": [
            "93/93 [==============================] - 1s 11ms/step - loss: 0.7131 - accuracy: 0.6966\n"
          ],
          "name": "stdout"
        },
        {
          "output_type": "execute_result",
          "data": {
            "text/plain": [
              "[0.7131154537200928, 0.69664067029953]"
            ]
          },
          "metadata": {
            "tags": []
          },
          "execution_count": 88
        }
      ]
    },
    {
      "cell_type": "code",
      "metadata": {
        "colab": {
          "base_uri": "https://localhost:8080/"
        },
        "id": "KdykAlTG_ffL",
        "outputId": "ab37448b-4ce7-41bf-d67b-c7410689a727"
      },
      "source": [
        "r_pred = modelrnn.predict_classes(testX)"
      ],
      "execution_count": null,
      "outputs": [
        {
          "output_type": "stream",
          "text": [
            "/usr/local/lib/python3.7/dist-packages/tensorflow/python/keras/engine/sequential.py:450: UserWarning: `model.predict_classes()` is deprecated and will be removed after 2021-01-01. Please use instead:* `np.argmax(model.predict(x), axis=-1)`,   if your model does multi-class classification   (e.g. if it uses a `softmax` last-layer activation).* `(model.predict(x) > 0.5).astype(\"int32\")`,   if your model does binary classification   (e.g. if it uses a `sigmoid` last-layer activation).\n",
            "  warnings.warn('`model.predict_classes()` is deprecated and '\n"
          ],
          "name": "stderr"
        }
      ]
    },
    {
      "cell_type": "markdown",
      "metadata": {
        "id": "ZUCKPjfHP_c3"
      },
      "source": [
        "# Confusion Matrix"
      ]
    },
    {
      "cell_type": "code",
      "metadata": {
        "colab": {
          "base_uri": "https://localhost:8080/",
          "height": 530
        },
        "id": "JjI0_eQK_oxm",
        "outputId": "f47b3913-3c4b-488a-dff2-3b8284b8e559"
      },
      "source": [
        "mat = confusion_matrix(testr , r_pred)\n",
        "\n",
        "plot_confusion_matrix(conf_mat = mat, show_normed=False , figsize=(10,8))\n"
      ],
      "execution_count": null,
      "outputs": [
        {
          "output_type": "execute_result",
          "data": {
            "text/plain": [
              "(<Figure size 720x576 with 1 Axes>,\n",
              " <matplotlib.axes._subplots.AxesSubplot at 0x7f354de4fb90>)"
            ]
          },
          "metadata": {
            "tags": []
          },
          "execution_count": 90
        },
        {
          "output_type": "display_data",
          "data": {
            "image/png": "[encoded data removed]",
            "text/plain": [
              "<Figure size 720x576 with 1 Axes>"
            ]
          },
          "metadata": {
            "tags": [],
            "needs_background": "light"
          }
        }
      ]
    },
    {
      "cell_type": "markdown",
      "metadata": {
        "id": "ykBqb37NRSsU"
      },
      "source": [
        "# Plotting Curves for Accuracy and Loss"
      ]
    },
    {
      "cell_type": "code",
      "metadata": {
        "colab": {
          "base_uri": "https://localhost:8080/",
          "height": 295
        },
        "id": "8bCSnXkvNLW_",
        "outputId": "0e32ec9a-ffbc-4b68-83ff-26d44f7da1f4"
      },
      "source": [
        "plt.figure(figsize=(6, 4))\n",
        "plt.plot(history.history['accuracy'],'r', label='Accuracy of training data')\n",
        "plt.plot(history.history['val_accuracy'],'g', label='Accuracy of validation data')\n",
        "plt.title('Model Accuracy')\n",
        "plt.xlabel('Epochs')\n",
        "plt.ylabel('Accuracy')\n",
        "plt.legend(loc='lower right')\n",
        "plt.show()"
      ],
      "execution_count": null,
      "outputs": [
        {
          "output_type": "display_data",
          "data": {
            "image/png": "[encoded data removed]",
            "text/plain": [
              "<Figure size 432x288 with 1 Axes>"
            ]
          },
          "metadata": {
            "tags": [],
            "needs_background": "light"
          }
        }
      ]
    },
    {
      "cell_type": "code",
      "metadata": {
        "colab": {
          "base_uri": "https://localhost:8080/",
          "height": 295
        },
        "id": "6PavLpKuPNT9",
        "outputId": "0b6120a4-b1a2-4577-c8ff-b521197c7b13"
      },
      "source": [
        "plt.figure(figsize=(6, 4))\n",
        "plt.plot(history.history['loss'],'r', label='Loss of training data')\n",
        "plt.plot(history.history['val_loss'],'g', label='Loss of validation data')\n",
        "plt.title('Model Loss')\n",
        "plt.xlabel('Epochs')\n",
        "plt.ylabel('Loss')\n",
        "plt.legend(loc='upper right')\n",
        "plt.show()"
      ],
      "execution_count": null,
      "outputs": [
        {
          "output_type": "display_data",
          "data": {
            "image/png": "[encoded data removed]",
            "text/plain": [
              "<Figure size 432x288 with 1 Axes>"
            ]
          },
          "metadata": {
            "tags": [],
            "needs_background": "light"
          }
        }
      ]
    },
    {
      "cell_type": "markdown",
      "metadata": {
        "id": "P_hS7QYpRh0v"
      },
      "source": [
        "# Classification Report"
      ]
    },
    {
      "cell_type": "code",
      "metadata": {
        "colab": {
          "base_uri": "https://localhost:8080/"
        },
        "id": "UQsXbLdOBdp9",
        "outputId": "b92154b2-e197-49f9-b16b-ec88405109c6"
      },
      "source": [
        "from sklearn.metrics import classification_report\n",
        "y_pred = modelrnn.predict(testX)\n",
        "y_pred_classes = [np.argmax(element) for element in y_pred]\n",
        "print('\\nClassification Report\\n')\n",
        "print(classification_report(testr, y_pred_classes, target_names=[\"WALKING\", \"WALKING_UPSTAIRS\", \"WALKING_DOWNSTAIRS\", \"SITTING\", \"STANDING\", \"LAYING\"]))\n",
        "#here we needed testr not testy"
      ],
      "execution_count": null,
      "outputs": [
        {
          "output_type": "stream",
          "text": [
            "\n",
            "Classification Report\n",
            "\n",
            "                    precision    recall  f1-score   support\n",
            "\n",
            "           WALKING       0.53      0.44      0.48       496\n",
            "  WALKING_UPSTAIRS       0.54      0.54      0.54       471\n",
            "WALKING_DOWNSTAIRS       0.60      0.69      0.64       420\n",
            "           SITTING       0.73      0.86      0.79       491\n",
            "          STANDING       0.82      0.74      0.78       532\n",
            "            LAYING       0.99      0.95      0.97       537\n",
            "\n",
            "          accuracy                           0.71      2947\n",
            "         macro avg       0.70      0.70      0.70      2947\n",
            "      weighted avg       0.71      0.71      0.71      2947\n",
            "\n"
          ],
          "name": "stdout"
        }
      ]
    },
    {
      "cell_type": "markdown",
      "metadata": {
        "id": "nC2Ve-JWUqiQ"
      },
      "source": [
        "## We can see RNN model gives an accuracy of 71%"
      ]
    },
    {
      "cell_type": "markdown",
      "metadata": {
        "id": "ovz-NHtTVl0c"
      },
      "source": [
        "# **LSTM model**"
      ]
    },
    {
      "cell_type": "code",
      "metadata": {
        "id": "BiIHm7WzYMlt"
      },
      "source": [
        "from keras.layers import LSTM"
      ],
      "execution_count": null,
      "outputs": []
    },
    {
      "cell_type": "code",
      "metadata": {
        "id": "Q4rEdR0nVqa8"
      },
      "source": [
        "#building a LSTM\n",
        "#model creation\n",
        "modellstm = Sequential()\n",
        "modellstm.add(LSTM(units = 128,input_shape=(trainX.shape[1:]),return_sequences=True))\n",
        "modellstm.add(LSTM(units = 64))\n",
        "modellstm.add(Dense(units = 64, activation='relu'))\n",
        "modellstm.add(Dense(units = 6 , activation='sigmoid'))"
      ],
      "execution_count": null,
      "outputs": []
    },
    {
      "cell_type": "code",
      "metadata": {
        "id": "Zm-0Wx5QVit9"
      },
      "source": [
        "modellstm.compile(optimizer='adam',loss='categorical_crossentropy', metrics=['accuracy'])"
      ],
      "execution_count": null,
      "outputs": []
    },
    {
      "cell_type": "code",
      "metadata": {
        "colab": {
          "base_uri": "https://localhost:8080/"
        },
        "id": "AJNw8XFGY0VX",
        "outputId": "d8c2f2f6-6fdc-4c47-d51c-6ed632f34bf1"
      },
      "source": [
        "modellstm.summary()"
      ],
      "execution_count": null,
      "outputs": [
        {
          "output_type": "stream",
          "text": [
            "Model: \"sequential_1\"\n",
            "_________________________________________________________________\n",
            "Layer (type)                 Output Shape              Param #   \n",
            "=================================================================\n",
            "lstm (LSTM)                  (None, 128, 128)          70656     \n",
            "_________________________________________________________________\n",
            "lstm_1 (LSTM)                (None, 64)                49408     \n",
            "_________________________________________________________________\n",
            "dense_2 (Dense)              (None, 64)                4160      \n",
            "_________________________________________________________________\n",
            "dense_3 (Dense)              (None, 6)                 390       \n",
            "=================================================================\n",
            "Total params: 124,614\n",
            "Trainable params: 0\n",
            "Non-trainable params: 124,614\n",
            "_________________________________________________________________\n"
          ],
          "name": "stdout"
        }
      ]
    },
    {
      "cell_type": "code",
      "metadata": {
        "colab": {
          "base_uri": "https://localhost:8080/",
          "height": 466
        },
        "id": "7QKpLxsgLufa",
        "outputId": "947dfaec-b479-4646-eb57-4cb299f70f88"
      },
      "source": [
        "tf.keras.utils.plot_model(modellstm)"
      ],
      "execution_count": null,
      "outputs": [
        {
          "output_type": "execute_result",
          "data": {
            "image/png": "[encoded data removed]",
            "text/plain": [
              "<IPython.core.display.Image object>"
            ]
          },
          "metadata": {
            "tags": []
          },
          "execution_count": 32
        }
      ]
    },
    {
      "cell_type": "code",
      "metadata": {
        "colab": {
          "base_uri": "https://localhost:8080/"
        },
        "id": "U6wwPE_Geqo-",
        "outputId": "3bfa9097-f042-495c-9122-83cadf671cfa"
      },
      "source": [
        "historyy=modellstm.fit(trainX,trainy,epochs=20,validation_data=(testX,testy))"
      ],
      "execution_count": null,
      "outputs": [
        {
          "output_type": "stream",
          "text": [
            "Epoch 1/20\n",
            "230/230 [==============================] - 53s 215ms/step - loss: 1.2175 - accuracy: 0.4659 - val_loss: 0.8654 - val_accuracy: 0.6359\n",
            "Epoch 2/20\n",
            "230/230 [==============================] - 48s 209ms/step - loss: 0.5957 - accuracy: 0.7447 - val_loss: 0.9958 - val_accuracy: 0.6179\n",
            "Epoch 3/20\n",
            "230/230 [==============================] - 48s 210ms/step - loss: 0.6997 - accuracy: 0.7011 - val_loss: 0.4277 - val_accuracy: 0.8405\n",
            "Epoch 4/20\n",
            "230/230 [==============================] - 48s 210ms/step - loss: 0.3199 - accuracy: 0.8835 - val_loss: 0.3385 - val_accuracy: 0.8843\n",
            "Epoch 5/20\n",
            "230/230 [==============================] - 48s 211ms/step - loss: 0.1826 - accuracy: 0.9318 - val_loss: 0.3362 - val_accuracy: 0.8931\n",
            "Epoch 6/20\n",
            "230/230 [==============================] - 49s 214ms/step - loss: 0.1499 - accuracy: 0.9406 - val_loss: 0.3284 - val_accuracy: 0.8968\n",
            "Epoch 7/20\n",
            "230/230 [==============================] - 49s 214ms/step - loss: 0.1366 - accuracy: 0.9459 - val_loss: 0.3401 - val_accuracy: 0.8853\n",
            "Epoch 8/20\n",
            "230/230 [==============================] - 49s 214ms/step - loss: 0.1317 - accuracy: 0.9465 - val_loss: 0.3352 - val_accuracy: 0.9016\n",
            "Epoch 9/20\n",
            "230/230 [==============================] - 49s 214ms/step - loss: 0.1319 - accuracy: 0.9441 - val_loss: 0.3800 - val_accuracy: 0.8870\n",
            "Epoch 10/20\n",
            "230/230 [==============================] - 49s 213ms/step - loss: 0.1528 - accuracy: 0.9402 - val_loss: 0.3388 - val_accuracy: 0.8982\n",
            "Epoch 11/20\n",
            "230/230 [==============================] - 49s 214ms/step - loss: 0.1392 - accuracy: 0.9450 - val_loss: 0.3730 - val_accuracy: 0.8968\n",
            "Epoch 12/20\n",
            "230/230 [==============================] - 49s 215ms/step - loss: 0.1279 - accuracy: 0.9489 - val_loss: 0.3712 - val_accuracy: 0.8992\n",
            "Epoch 13/20\n",
            "230/230 [==============================] - 49s 213ms/step - loss: 0.1081 - accuracy: 0.9532 - val_loss: 0.3729 - val_accuracy: 0.9033\n",
            "Epoch 14/20\n",
            "230/230 [==============================] - 49s 213ms/step - loss: 0.1157 - accuracy: 0.9505 - val_loss: 0.3832 - val_accuracy: 0.9026\n",
            "Epoch 15/20\n",
            "230/230 [==============================] - 49s 214ms/step - loss: 0.1087 - accuracy: 0.9544 - val_loss: 0.3940 - val_accuracy: 0.8924\n",
            "Epoch 16/20\n",
            "230/230 [==============================] - 50s 216ms/step - loss: 0.1818 - accuracy: 0.9349 - val_loss: 0.2727 - val_accuracy: 0.9084\n",
            "Epoch 17/20\n",
            "230/230 [==============================] - 50s 216ms/step - loss: 0.1077 - accuracy: 0.9545 - val_loss: 0.2802 - val_accuracy: 0.9084\n",
            "Epoch 18/20\n",
            "230/230 [==============================] - 49s 215ms/step - loss: 0.1078 - accuracy: 0.9585 - val_loss: 0.2951 - val_accuracy: 0.9141\n",
            "Epoch 19/20\n",
            "230/230 [==============================] - 50s 216ms/step - loss: 0.1112 - accuracy: 0.9540 - val_loss: 0.2905 - val_accuracy: 0.9067\n",
            "Epoch 20/20\n",
            "230/230 [==============================] - 49s 213ms/step - loss: 0.1211 - accuracy: 0.9517 - val_loss: 0.3017 - val_accuracy: 0.9179\n"
          ],
          "name": "stdout"
        }
      ]
    },
    {
      "cell_type": "code",
      "metadata": {
        "id": "G0m-ektzN7H0"
      },
      "source": [
        ""
      ],
      "execution_count": null,
      "outputs": []
    },
    {
      "cell_type": "code",
      "metadata": {
        "colab": {
          "base_uri": "https://localhost:8080/"
        },
        "id": "8TMZTkdVgtZK",
        "outputId": "6ee1aba5-6500-479f-c18e-a035466d81cf"
      },
      "source": [
        "modellstm.evaluate(testX, testy)"
      ],
      "execution_count": null,
      "outputs": [
        {
          "output_type": "stream",
          "text": [
            "93/93 [==============================] - 6s 59ms/step - loss: 0.3017 - accuracy: 0.9179\n"
          ],
          "name": "stdout"
        },
        {
          "output_type": "execute_result",
          "data": {
            "text/plain": [
              "[0.301735520362854, 0.9178826212882996]"
            ]
          },
          "metadata": {
            "tags": []
          },
          "execution_count": 95
        }
      ]
    },
    {
      "cell_type": "code",
      "metadata": {
        "colab": {
          "base_uri": "https://localhost:8080/"
        },
        "id": "z-ra_V6S31P7",
        "outputId": "030173af-ff4a-42a7-c1b1-3fe4224932f3"
      },
      "source": [
        "r_pred = modellstm.predict_classes(testX)"
      ],
      "execution_count": null,
      "outputs": [
        {
          "output_type": "stream",
          "text": [
            "/usr/local/lib/python3.7/dist-packages/tensorflow/python/keras/engine/sequential.py:450: UserWarning: `model.predict_classes()` is deprecated and will be removed after 2021-01-01. Please use instead:* `np.argmax(model.predict(x), axis=-1)`,   if your model does multi-class classification   (e.g. if it uses a `softmax` last-layer activation).* `(model.predict(x) > 0.5).astype(\"int32\")`,   if your model does binary classification   (e.g. if it uses a `sigmoid` last-layer activation).\n",
            "  warnings.warn('`model.predict_classes()` is deprecated and '\n"
          ],
          "name": "stderr"
        }
      ]
    },
    {
      "cell_type": "markdown",
      "metadata": {
        "id": "sVQJEUl47L4Q"
      },
      "source": [
        "# Confusion Matrix"
      ]
    },
    {
      "cell_type": "code",
      "metadata": {
        "colab": {
          "base_uri": "https://localhost:8080/",
          "height": 530
        },
        "id": "lj_ttLm939_D",
        "outputId": "f59b6bc0-d859-4291-852b-eb566de40f6e"
      },
      "source": [
        "mat = confusion_matrix(testr , r_pred)\n",
        "plot_confusion_matrix(conf_mat = mat, show_normed=False , figsize=(10,8))"
      ],
      "execution_count": null,
      "outputs": [
        {
          "output_type": "execute_result",
          "data": {
            "text/plain": [
              "(<Figure size 720x576 with 1 Axes>,\n",
              " <matplotlib.axes._subplots.AxesSubplot at 0x7f652758f0d0>)"
            ]
          },
          "metadata": {
            "tags": []
          },
          "execution_count": 222
        },
        {
          "output_type": "display_data",
          "data": {
            "image/png": "[encoded data removed]",
            "text/plain": [
              "<Figure size 720x576 with 1 Axes>"
            ]
          },
          "metadata": {
            "tags": [],
            "needs_background": "light"
          }
        }
      ]
    },
    {
      "cell_type": "markdown",
      "metadata": {
        "id": "pyYQ9jVK7Ayl"
      },
      "source": [
        "\n",
        "# Plotting Curves for Accuracy and Loss"
      ]
    },
    {
      "cell_type": "code",
      "metadata": {
        "id": "K_6bfeCo4A12"
      },
      "source": [
        "plt.figure(figsize=(6, 4))\n",
        "plt.plot(historyy.history['accuracy'],'r', label='Accuracy of training data')\n",
        "plt.plot(historyy.history['val_accuracy1'],'g', label='Accuracy of validation data')\n",
        "plt.title('Model Accuracy')\n",
        "plt.xlabel('Epochs')\n",
        "plt.ylabel('Accuracy')\n",
        "plt.legend(loc='lower right')\n",
        "plt.show()"
      ],
      "execution_count": null,
      "outputs": []
    },
    {
      "cell_type": "code",
      "metadata": {
        "colab": {
          "base_uri": "https://localhost:8080/",
          "height": 295
        },
        "id": "EDLwO-3P4Rvc",
        "outputId": "16a5cfb8-fa5f-4c7f-b009-8b24e9fc2751"
      },
      "source": [
        "plt.figure(figsize=(6, 4))\n",
        "plt.plot(historyy.history['loss'],'r', label='Loss of training data')\n",
        "plt.plot(historyy.history['val_loss'],'g', label='Loss of validation data')\n",
        "plt.title('Model Loss')\n",
        "plt.xlabel('Epochs')\n",
        "plt.ylabel('Loss')\n",
        "plt.legend(loc='upper right')\n",
        "plt.show()"
      ],
      "execution_count": null,
      "outputs": [
        {
          "output_type": "display_data",
          "data": {
            "image/png": "[encoded data removed]",
            "text/plain": [
              "<Figure size 432x288 with 1 Axes>"
            ]
          },
          "metadata": {
            "tags": [],
            "needs_background": "light"
          }
        }
      ]
    },
    {
      "cell_type": "markdown",
      "metadata": {
        "id": "pYs15M_w67ok"
      },
      "source": [
        "# Classification Report"
      ]
    },
    {
      "cell_type": "code",
      "metadata": {
        "colab": {
          "base_uri": "https://localhost:8080/"
        },
        "id": "e8tFX_KG4ahK",
        "outputId": "33b2a124-17bb-4ac4-d257-ea291af42fe9"
      },
      "source": [
        "from sklearn.metrics import classification_report\n",
        "y_pred = modellstm.predict(testX)\n",
        "y_pred_classes = [np.argmax(element) for element in y_pred]\n",
        "print('\\nClassification Report\\n')\n",
        "print(classification_report(testr, y_pred_classes, target_names=[\"WALKING\", \"WALKING_UPSTAIRS\", \"WALKING_DOWNSTAIRS\", \"SITTING\", \"STANDING\", \"LAYING\"]))\n",
        "#here we needed testr not testy"
      ],
      "execution_count": null,
      "outputs": [
        {
          "output_type": "stream",
          "text": [
            "\n",
            "Classification Report\n",
            "\n",
            "                    precision    recall  f1-score   support\n",
            "\n",
            "           WALKING       1.00      0.93      0.96       496\n",
            "  WALKING_UPSTAIRS       0.99      0.92      0.95       471\n",
            "WALKING_DOWNSTAIRS       0.86      1.00      0.93       420\n",
            "           SITTING       0.82      0.84      0.83       491\n",
            "          STANDING       0.89      0.83      0.86       532\n",
            "            LAYING       0.96      1.00      0.98       537\n",
            "\n",
            "          accuracy                           0.92      2947\n",
            "         macro avg       0.92      0.92      0.92      2947\n",
            "      weighted avg       0.92      0.92      0.92      2947\n",
            "\n"
          ],
          "name": "stdout"
        }
      ]
    },
    {
      "cell_type": "markdown",
      "metadata": {
        "id": "6eJbWbjH4mx3"
      },
      "source": [
        "# We can see LSTM model gives an accuracy of 92%\n",
        "Therefore we can say LSTM works well on time-series data."
      ]
    },
    {
      "cell_type": "markdown",
      "metadata": {
        "id": "7Bl6L9YO_jJU"
      },
      "source": [
        "# **GRU Model**"
      ]
    },
    {
      "cell_type": "code",
      "metadata": {
        "id": "fqu9DLh7_vLO"
      },
      "source": [
        "from keras.layers import GRU"
      ],
      "execution_count": null,
      "outputs": []
    },
    {
      "cell_type": "code",
      "metadata": {
        "id": "DMDr_lJeAkuX"
      },
      "source": [
        "#building a GRU\n",
        "#model creation\n",
        "modelgru = Sequential()\n",
        "modelgru.add(GRU(units = 128,input_shape=(trainX.shape[1:]),return_sequences=True))\n",
        "modelgru.add(GRU(units = 64))\n",
        "modelgru.add(Dense(units = 64, activation='relu'))\n",
        "modelgru.add(Dense(units = 6 , activation='sigmoid'))"
      ],
      "execution_count": null,
      "outputs": []
    },
    {
      "cell_type": "code",
      "metadata": {
        "id": "C5E_x3Z5B1tV"
      },
      "source": [
        "modelgru.compile(optimizer='adam',loss='categorical_crossentropy', metrics=['accuracy'])"
      ],
      "execution_count": null,
      "outputs": []
    },
    {
      "cell_type": "code",
      "metadata": {
        "colab": {
          "base_uri": "https://localhost:8080/"
        },
        "id": "nIz5a63KB_6r",
        "outputId": "8ff5253b-049e-40a5-bac3-4a4088138d65"
      },
      "source": [
        "modelgru.summary()"
      ],
      "execution_count": null,
      "outputs": [
        {
          "output_type": "stream",
          "text": [
            "Model: \"sequential_1\"\n",
            "_________________________________________________________________\n",
            "Layer (type)                 Output Shape              Param #   \n",
            "=================================================================\n",
            "gru (GRU)                    (None, 128, 128)          53376     \n",
            "_________________________________________________________________\n",
            "gru_1 (GRU)                  (None, 64)                37248     \n",
            "_________________________________________________________________\n",
            "dense_3 (Dense)              (None, 64)                4160      \n",
            "_________________________________________________________________\n",
            "dense_4 (Dense)              (None, 6)                 390       \n",
            "=================================================================\n",
            "Total params: 95,174\n",
            "Trainable params: 95,174\n",
            "Non-trainable params: 0\n",
            "_________________________________________________________________\n"
          ],
          "name": "stdout"
        }
      ]
    },
    {
      "cell_type": "code",
      "metadata": {
        "colab": {
          "base_uri": "https://localhost:8080/",
          "height": 466
        },
        "id": "gJ3gdBDULlAS",
        "outputId": "b50ea5f6-2dad-4c26-ce57-ad2c5d68fdf7"
      },
      "source": [
        "tf.keras.utils.plot_model(modelgru)"
      ],
      "execution_count": null,
      "outputs": [
        {
          "output_type": "execute_result",
          "data": {
            "image/png": "[encoded data removed]",
            "text/plain": [
              "<IPython.core.display.Image object>"
            ]
          },
          "metadata": {
            "tags": []
          },
          "execution_count": 37
        }
      ]
    },
    {
      "cell_type": "code",
      "metadata": {
        "colab": {
          "base_uri": "https://localhost:8080/"
        },
        "id": "D6UW9WSqCInG",
        "outputId": "529c6582-e643-45bc-e4d5-f13a2e832d1a"
      },
      "source": [
        "history=modelgru.fit(trainX,trainy,epochs=20,validation_data=(testX,testy))"
      ],
      "execution_count": null,
      "outputs": [
        {
          "output_type": "stream",
          "text": [
            "Epoch 1/20\n",
            "230/230 [==============================] - 43s 186ms/step - loss: 0.0674 - accuracy: 0.9736 - val_loss: 0.3367 - val_accuracy: 0.9155\n",
            "Epoch 2/20\n",
            "230/230 [==============================] - 43s 186ms/step - loss: 0.0685 - accuracy: 0.9740 - val_loss: 0.3204 - val_accuracy: 0.9209\n",
            "Epoch 3/20\n",
            "230/230 [==============================] - 43s 186ms/step - loss: 0.0670 - accuracy: 0.9732 - val_loss: 0.3472 - val_accuracy: 0.9131\n",
            "Epoch 4/20\n",
            "230/230 [==============================] - 43s 188ms/step - loss: 0.0789 - accuracy: 0.9699 - val_loss: 0.3065 - val_accuracy: 0.9138\n",
            "Epoch 5/20\n",
            "230/230 [==============================] - 43s 186ms/step - loss: 0.0696 - accuracy: 0.9729 - val_loss: 0.2355 - val_accuracy: 0.9253\n",
            "Epoch 6/20\n",
            "230/230 [==============================] - 43s 185ms/step - loss: 0.0618 - accuracy: 0.9763 - val_loss: 0.2850 - val_accuracy: 0.9270\n",
            "Epoch 7/20\n",
            "230/230 [==============================] - 42s 185ms/step - loss: 0.0566 - accuracy: 0.9785 - val_loss: 0.2687 - val_accuracy: 0.9342\n",
            "Epoch 8/20\n",
            "230/230 [==============================] - 43s 186ms/step - loss: 0.0629 - accuracy: 0.9777 - val_loss: 0.2500 - val_accuracy: 0.9284\n",
            "Epoch 9/20\n",
            "230/230 [==============================] - 43s 186ms/step - loss: 0.0534 - accuracy: 0.9807 - val_loss: 0.2501 - val_accuracy: 0.9270\n",
            "Epoch 10/20\n",
            "230/230 [==============================] - 43s 185ms/step - loss: 0.0488 - accuracy: 0.9815 - val_loss: 0.2319 - val_accuracy: 0.9379\n",
            "Epoch 11/20\n",
            "230/230 [==============================] - 42s 184ms/step - loss: 0.0459 - accuracy: 0.9831 - val_loss: 0.2910 - val_accuracy: 0.9270\n",
            "Epoch 12/20\n",
            "230/230 [==============================] - 43s 186ms/step - loss: 0.0404 - accuracy: 0.9867 - val_loss: 0.1967 - val_accuracy: 0.9430\n",
            "Epoch 13/20\n",
            "230/230 [==============================] - 42s 185ms/step - loss: 0.0373 - accuracy: 0.9863 - val_loss: 0.2351 - val_accuracy: 0.9379\n",
            "Epoch 14/20\n",
            "230/230 [==============================] - 42s 183ms/step - loss: 0.0396 - accuracy: 0.9867 - val_loss: 0.2593 - val_accuracy: 0.9365\n",
            "Epoch 15/20\n",
            "230/230 [==============================] - 42s 184ms/step - loss: 0.0344 - accuracy: 0.9878 - val_loss: 0.2267 - val_accuracy: 0.9338\n",
            "Epoch 16/20\n",
            "230/230 [==============================] - 43s 186ms/step - loss: 0.0348 - accuracy: 0.9874 - val_loss: 0.2632 - val_accuracy: 0.9352\n",
            "Epoch 17/20\n",
            "230/230 [==============================] - 42s 185ms/step - loss: 0.0301 - accuracy: 0.9878 - val_loss: 0.2593 - val_accuracy: 0.9437\n",
            "Epoch 18/20\n",
            "230/230 [==============================] - 42s 184ms/step - loss: 0.0247 - accuracy: 0.9908 - val_loss: 0.2209 - val_accuracy: 0.9447\n",
            "Epoch 19/20\n",
            "230/230 [==============================] - 42s 184ms/step - loss: 0.0370 - accuracy: 0.9876 - val_loss: 0.2244 - val_accuracy: 0.9393\n",
            "Epoch 20/20\n",
            "230/230 [==============================] - 43s 186ms/step - loss: 0.0276 - accuracy: 0.9891 - val_loss: 0.2892 - val_accuracy: 0.9338\n"
          ],
          "name": "stdout"
        }
      ]
    },
    {
      "cell_type": "code",
      "metadata": {
        "colab": {
          "base_uri": "https://localhost:8080/"
        },
        "id": "fVucguHLFRMB",
        "outputId": "96e9dd08-3e87-4652-c281-1b361ef63599"
      },
      "source": [
        "modelgru.evaluate(testX, testy)"
      ],
      "execution_count": null,
      "outputs": [
        {
          "output_type": "stream",
          "text": [
            "93/93 [==============================] - 4s 42ms/step - loss: 0.3252 - accuracy: 0.9030\n"
          ],
          "name": "stdout"
        },
        {
          "output_type": "execute_result",
          "data": {
            "text/plain": [
              "[0.32515692710876465, 0.9029521346092224]"
            ]
          },
          "metadata": {
            "tags": []
          },
          "execution_count": 23
        }
      ]
    },
    {
      "cell_type": "code",
      "metadata": {
        "id": "aW5Ispiniai0"
      },
      "source": [
        ""
      ],
      "execution_count": null,
      "outputs": []
    },
    {
      "cell_type": "code",
      "metadata": {
        "colab": {
          "base_uri": "https://localhost:8080/"
        },
        "id": "R1ROo9DFFZlE",
        "outputId": "5ca9bab2-b9a1-4967-db10-932e7b85e5bd"
      },
      "source": [
        "r_pred = modelgru.predict_classes(testX)"
      ],
      "execution_count": null,
      "outputs": [
        {
          "output_type": "stream",
          "text": [
            "/usr/local/lib/python3.7/dist-packages/tensorflow/python/keras/engine/sequential.py:450: UserWarning: `model.predict_classes()` is deprecated and will be removed after 2021-01-01. Please use instead:* `np.argmax(model.predict(x), axis=-1)`,   if your model does multi-class classification   (e.g. if it uses a `softmax` last-layer activation).* `(model.predict(x) > 0.5).astype(\"int32\")`,   if your model does binary classification   (e.g. if it uses a `sigmoid` last-layer activation).\n",
            "  warnings.warn('`model.predict_classes()` is deprecated and '\n"
          ],
          "name": "stderr"
        }
      ]
    },
    {
      "cell_type": "markdown",
      "metadata": {
        "id": "dxGiO_lrGoBa"
      },
      "source": [
        "# Confusion Matrix"
      ]
    },
    {
      "cell_type": "code",
      "metadata": {
        "colab": {
          "base_uri": "https://localhost:8080/",
          "height": 530
        },
        "id": "ms0IIjkNFh8j",
        "outputId": "126cbb6e-3391-471e-83a5-5099d04df7a5"
      },
      "source": [
        "mat = confusion_matrix(testr , r_pred)\n",
        "plot_confusion_matrix(conf_mat = mat, show_normed=False , figsize=(10,8))"
      ],
      "execution_count": null,
      "outputs": [
        {
          "output_type": "execute_result",
          "data": {
            "text/plain": [
              "(<Figure size 720x576 with 1 Axes>,\n",
              " <matplotlib.axes._subplots.AxesSubplot at 0x7f68d5e09590>)"
            ]
          },
          "metadata": {
            "tags": []
          },
          "execution_count": 28
        },
        {
          "output_type": "display_data",
          "data": {
            "image/png": "[encoded data removed]",
            "text/plain": [
              "<Figure size 720x576 with 1 Axes>"
            ]
          },
          "metadata": {
            "tags": [],
            "needs_background": "light"
          }
        }
      ]
    },
    {
      "cell_type": "markdown",
      "metadata": {
        "id": "JTe5MBrpGrqy"
      },
      "source": [
        "# Plotting Curves for Accuracy and Loss"
      ]
    },
    {
      "cell_type": "code",
      "metadata": {
        "colab": {
          "base_uri": "https://localhost:8080/",
          "height": 295
        },
        "id": "bJ2oSVJ3FsNH",
        "outputId": "d82392b6-e063-41c2-fd58-7584db21749a"
      },
      "source": [
        "plt.figure(figsize=(6, 4))\n",
        "plt.plot(history.history['accuracy'],'r', label='Accuracy of training data')\n",
        "plt.plot(history.history['val_accuracy'],'g', label='Accuracy of validation data')\n",
        "plt.title('Model Accuracy')\n",
        "plt.xlabel('Epochs')\n",
        "plt.ylabel('Accuracy')\n",
        "plt.legend(loc='lower right')\n",
        "plt.show()"
      ],
      "execution_count": null,
      "outputs": [
        {
          "output_type": "display_data",
          "data": {
            "image/png": "[encoded data removed]",
            "text/plain": [
              "<Figure size 432x288 with 1 Axes>"
            ]
          },
          "metadata": {
            "tags": [],
            "needs_background": "light"
          }
        }
      ]
    },
    {
      "cell_type": "code",
      "metadata": {
        "colab": {
          "base_uri": "https://localhost:8080/",
          "height": 295
        },
        "id": "rm6oMllBF0kO",
        "outputId": "c4e52523-fcca-4d63-ad78-fad37052c6d9"
      },
      "source": [
        "plt.figure(figsize=(6, 4))\n",
        "plt.plot(history.history['loss'],'r', label='Loss of training data')\n",
        "plt.plot(history.history['val_loss'],'g', label='Loss of validation data')\n",
        "plt.title('Model Loss')\n",
        "plt.xlabel('Epochs')\n",
        "plt.ylabel('Loss')\n",
        "plt.legend(loc='upper right')\n",
        "plt.show()"
      ],
      "execution_count": null,
      "outputs": [
        {
          "output_type": "display_data",
          "data": {
            "image/png": "[encoded data removed]",
            "text/plain": [
              "<Figure size 432x288 with 1 Axes>"
            ]
          },
          "metadata": {
            "tags": [],
            "needs_background": "light"
          }
        }
      ]
    },
    {
      "cell_type": "markdown",
      "metadata": {
        "id": "USCL0FfKGwAC"
      },
      "source": [
        "# Classification Report"
      ]
    },
    {
      "cell_type": "code",
      "metadata": {
        "colab": {
          "base_uri": "https://localhost:8080/"
        },
        "id": "9UrI4F-HF5ke",
        "outputId": "ba5a4458-f734-431e-ab03-de727389100a"
      },
      "source": [
        "from sklearn.metrics import classification_report\n",
        "y_pred = modelgru.predict(testX)\n",
        "y_pred_classes = [np.argmax(element) for element in y_pred]\n",
        "print('\\nClassification Report\\n')\n",
        "print(classification_report(testr, y_pred_classes, target_names=[\"WALKING\", \"WALKING_UPSTAIRS\", \"WALKING_DOWNSTAIRS\", \"SITTING\", \"STANDING\", \"LAYING\"]))\n",
        "#here we needed testr not testy"
      ],
      "execution_count": null,
      "outputs": [
        {
          "output_type": "stream",
          "text": [
            "\n",
            "Classification Report\n",
            "\n",
            "                    precision    recall  f1-score   support\n",
            "\n",
            "           WALKING       0.98      0.91      0.94       496\n",
            "  WALKING_UPSTAIRS       0.98      0.93      0.95       471\n",
            "WALKING_DOWNSTAIRS       0.87      1.00      0.93       420\n",
            "           SITTING       0.79      0.79      0.79       491\n",
            "          STANDING       0.85      0.80      0.82       532\n",
            "            LAYING       0.96      1.00      0.98       537\n",
            "\n",
            "          accuracy                           0.90      2947\n",
            "         macro avg       0.90      0.91      0.90      2947\n",
            "      weighted avg       0.90      0.90      0.90      2947\n",
            "\n"
          ],
          "name": "stdout"
        }
      ]
    },
    {
      "cell_type": "markdown",
      "metadata": {
        "id": "IICkzZIiGJnl"
      },
      "source": [
        "# GRU model gives an accuracy of 90%"
      ]
    },
    {
      "cell_type": "markdown",
      "metadata": {
        "id": "A5zCTSNwOOsq"
      },
      "source": [
        "Combining all 3 models "
      ]
    },
    {
      "cell_type": "code",
      "metadata": {
        "id": "qMZ_HinUMUgB"
      },
      "source": [
        "modelrnn.trainable = False\n",
        "modelgru.trainable = False\n",
        "modellstm.trainable = False"
      ],
      "execution_count": null,
      "outputs": []
    },
    {
      "cell_type": "code",
      "metadata": {
        "id": "1qh5HhGzMlpo"
      },
      "source": [
        "input = Input(shape=input_shape)\n",
        "x1 = modelrnn(input)\n",
        "x2 = modelgru(input)\n",
        "x3 = modellstm(input)\n",
        "x = concatenate([x1,x2,x3])\n",
        "x = Dense(256, activation='relu')(x)\n",
        "x = Dropout(0.3)(x)\n",
        "n_outputs=6\n",
        "output = Dense(n_outputs, activation='relu')(x) "
      ],
      "execution_count": null,
      "outputs": []
    },
    {
      "cell_type": "code",
      "metadata": {
        "id": "1KZ3T7z3Nec7"
      },
      "source": [
        "model = Model(input, output)"
      ],
      "execution_count": null,
      "outputs": []
    },
    {
      "cell_type": "code",
      "metadata": {
        "colab": {
          "base_uri": "https://localhost:8080/"
        },
        "id": "kvgVGFuCNtkw",
        "outputId": "6f73066a-d53f-4bf4-b03e-c6bbca5b3447"
      },
      "source": [
        "model.compile(optimizer='adam', loss='mse', metrics = ['accuracy'])\n",
        "model.summary()"
      ],
      "execution_count": null,
      "outputs": [
        {
          "output_type": "stream",
          "text": [
            "Model: \"model_3\"\n",
            "__________________________________________________________________________________________________\n",
            "Layer (type)                    Output Shape         Param #     Connected to                     \n",
            "==================================================================================================\n",
            "input_4 (InputLayer)            [(None, 128, 9)]     0                                            \n",
            "__________________________________________________________________________________________________\n",
            "sequential_4 (Sequential)       (None, 6)            26310       input_4[0][0]                    \n",
            "__________________________________________________________________________________________________\n",
            "sequential_3 (Sequential)       (None, 6)            95174       input_4[0][0]                    \n",
            "__________________________________________________________________________________________________\n",
            "sequential_5 (Sequential)       (None, 6)            124614      input_4[0][0]                    \n",
            "__________________________________________________________________________________________________\n",
            "concatenate_3 (Concatenate)     (None, 18)           0           sequential_4[1][0]               \n",
            "                                                                 sequential_3[3][0]               \n",
            "                                                                 sequential_5[1][0]               \n",
            "__________________________________________________________________________________________________\n",
            "dense_18 (Dense)                (None, 256)          4864        concatenate_3[0][0]              \n",
            "__________________________________________________________________________________________________\n",
            "dropout_3 (Dropout)             (None, 256)          0           dense_18[0][0]                   \n",
            "__________________________________________________________________________________________________\n",
            "dense_19 (Dense)                (None, 6)            1542        dropout_3[0][0]                  \n",
            "==================================================================================================\n",
            "Total params: 252,504\n",
            "Trainable params: 6,406\n",
            "Non-trainable params: 246,098\n",
            "__________________________________________________________________________________________________\n"
          ],
          "name": "stdout"
        }
      ]
    },
    {
      "cell_type": "code",
      "metadata": {
        "colab": {
          "base_uri": "https://localhost:8080/",
          "height": 564
        },
        "id": "rRmHrY8sNv42",
        "outputId": "2b1b98a0-315d-450b-ff70-fea553d8adb3"
      },
      "source": [
        "tf.keras.utils.plot_model(model)"
      ],
      "execution_count": null,
      "outputs": [
        {
          "output_type": "execute_result",
          "data": {
            "image/png": "[encoded data removed]",
            "text/plain": [
              "<IPython.core.display.Image object>"
            ]
          },
          "metadata": {
            "tags": []
          },
          "execution_count": 107
        }
      ]
    },
    {
      "cell_type": "code",
      "metadata": {
        "colab": {
          "base_uri": "https://localhost:8080/"
        },
        "id": "JH4lZUaCN9MA",
        "outputId": "19c7b421-d5d8-433c-d559-bb9f4e261ddc"
      },
      "source": [
        "historyy=model.fit(trainX,trainy,epochs=50,validation_data=(testX,testy))"
      ],
      "execution_count": null,
      "outputs": [
        {
          "output_type": "stream",
          "text": [
            "Epoch 1/50\n",
            "230/230 [==============================] - 26s 113ms/step - loss: 0.0106 - accuracy: 0.9591 - val_loss: 0.0219 - val_accuracy: 0.9138\n",
            "Epoch 2/50\n",
            "230/230 [==============================] - 26s 112ms/step - loss: 0.0107 - accuracy: 0.9585 - val_loss: 0.0223 - val_accuracy: 0.9169\n",
            "Epoch 3/50\n",
            "230/230 [==============================] - 26s 112ms/step - loss: 0.0108 - accuracy: 0.9584 - val_loss: 0.0217 - val_accuracy: 0.9165\n",
            "Epoch 4/50\n",
            "230/230 [==============================] - 26s 113ms/step - loss: 0.0106 - accuracy: 0.9576 - val_loss: 0.0225 - val_accuracy: 0.9148\n",
            "Epoch 5/50\n",
            "230/230 [==============================] - 26s 114ms/step - loss: 0.0106 - accuracy: 0.9585 - val_loss: 0.0223 - val_accuracy: 0.9152\n",
            "Epoch 6/50\n",
            "230/230 [==============================] - 26s 114ms/step - loss: 0.0105 - accuracy: 0.9599 - val_loss: 0.0226 - val_accuracy: 0.9199\n",
            "Epoch 7/50\n",
            "230/230 [==============================] - 26s 114ms/step - loss: 0.0107 - accuracy: 0.9584 - val_loss: 0.0218 - val_accuracy: 0.9169\n",
            "Epoch 8/50\n",
            "230/230 [==============================] - 26s 113ms/step - loss: 0.0107 - accuracy: 0.9589 - val_loss: 0.0227 - val_accuracy: 0.9138\n",
            "Epoch 9/50\n",
            "230/230 [==============================] - 26s 114ms/step - loss: 0.0105 - accuracy: 0.9591 - val_loss: 0.0218 - val_accuracy: 0.9141\n",
            "Epoch 10/50\n",
            "230/230 [==============================] - 26s 114ms/step - loss: 0.0106 - accuracy: 0.9585 - val_loss: 0.0233 - val_accuracy: 0.9141\n",
            "Epoch 11/50\n",
            "230/230 [==============================] - 26s 114ms/step - loss: 0.0107 - accuracy: 0.9591 - val_loss: 0.0224 - val_accuracy: 0.9138\n",
            "Epoch 12/50\n",
            "230/230 [==============================] - 26s 114ms/step - loss: 0.0105 - accuracy: 0.9593 - val_loss: 0.0225 - val_accuracy: 0.9138\n",
            "Epoch 13/50\n",
            "230/230 [==============================] - 26s 114ms/step - loss: 0.0106 - accuracy: 0.9582 - val_loss: 0.0224 - val_accuracy: 0.9155\n",
            "Epoch 14/50\n",
            "230/230 [==============================] - 26s 115ms/step - loss: 0.0106 - accuracy: 0.9592 - val_loss: 0.0225 - val_accuracy: 0.9131\n",
            "Epoch 15/50\n",
            "230/230 [==============================] - 26s 115ms/step - loss: 0.0105 - accuracy: 0.9587 - val_loss: 0.0230 - val_accuracy: 0.9172\n",
            "Epoch 16/50\n",
            "230/230 [==============================] - 26s 114ms/step - loss: 0.0105 - accuracy: 0.9595 - val_loss: 0.0224 - val_accuracy: 0.9162\n",
            "Epoch 17/50\n",
            "230/230 [==============================] - 26s 115ms/step - loss: 0.0105 - accuracy: 0.9592 - val_loss: 0.0217 - val_accuracy: 0.9165\n",
            "Epoch 18/50\n",
            "230/230 [==============================] - 26s 114ms/step - loss: 0.0107 - accuracy: 0.9582 - val_loss: 0.0234 - val_accuracy: 0.9169\n",
            "Epoch 19/50\n",
            "230/230 [==============================] - 26s 114ms/step - loss: 0.0108 - accuracy: 0.9573 - val_loss: 0.0219 - val_accuracy: 0.9131\n",
            "Epoch 20/50\n",
            "230/230 [==============================] - 26s 115ms/step - loss: 0.0108 - accuracy: 0.9577 - val_loss: 0.0220 - val_accuracy: 0.9141\n",
            "Epoch 21/50\n",
            "230/230 [==============================] - 26s 115ms/step - loss: 0.0106 - accuracy: 0.9587 - val_loss: 0.0235 - val_accuracy: 0.9169\n",
            "Epoch 22/50\n",
            "230/230 [==============================] - 26s 114ms/step - loss: 0.0107 - accuracy: 0.9591 - val_loss: 0.0222 - val_accuracy: 0.9152\n",
            "Epoch 23/50\n",
            "230/230 [==============================] - 26s 114ms/step - loss: 0.0107 - accuracy: 0.9574 - val_loss: 0.0219 - val_accuracy: 0.9172\n",
            "Epoch 24/50\n",
            "230/230 [==============================] - 26s 114ms/step - loss: 0.0106 - accuracy: 0.9592 - val_loss: 0.0226 - val_accuracy: 0.9138\n",
            "Epoch 25/50\n",
            "230/230 [==============================] - 26s 114ms/step - loss: 0.0106 - accuracy: 0.9601 - val_loss: 0.0227 - val_accuracy: 0.9138\n",
            "Epoch 26/50\n",
            "230/230 [==============================] - 26s 115ms/step - loss: 0.0106 - accuracy: 0.9591 - val_loss: 0.0229 - val_accuracy: 0.9155\n",
            "Epoch 27/50\n",
            "230/230 [==============================] - 26s 114ms/step - loss: 0.0107 - accuracy: 0.9577 - val_loss: 0.0237 - val_accuracy: 0.9162\n",
            "Epoch 28/50\n",
            "230/230 [==============================] - 26s 114ms/step - loss: 0.0105 - accuracy: 0.9593 - val_loss: 0.0230 - val_accuracy: 0.9158\n",
            "Epoch 29/50\n",
            "230/230 [==============================] - 26s 114ms/step - loss: 0.0106 - accuracy: 0.9591 - val_loss: 0.0221 - val_accuracy: 0.9145\n",
            "Epoch 30/50\n",
            "230/230 [==============================] - 26s 114ms/step - loss: 0.0106 - accuracy: 0.9588 - val_loss: 0.0222 - val_accuracy: 0.9165\n",
            "Epoch 31/50\n",
            "230/230 [==============================] - 26s 114ms/step - loss: 0.0107 - accuracy: 0.9595 - val_loss: 0.0223 - val_accuracy: 0.9162\n",
            "Epoch 32/50\n",
            "230/230 [==============================] - 26s 115ms/step - loss: 0.0106 - accuracy: 0.9597 - val_loss: 0.0218 - val_accuracy: 0.9158\n",
            "Epoch 33/50\n",
            "230/230 [==============================] - 26s 115ms/step - loss: 0.0106 - accuracy: 0.9589 - val_loss: 0.0226 - val_accuracy: 0.9141\n",
            "Epoch 34/50\n",
            "230/230 [==============================] - 26s 114ms/step - loss: 0.0107 - accuracy: 0.9580 - val_loss: 0.0221 - val_accuracy: 0.9148\n",
            "Epoch 35/50\n",
            "230/230 [==============================] - 26s 115ms/step - loss: 0.0107 - accuracy: 0.9582 - val_loss: 0.0222 - val_accuracy: 0.9141\n",
            "Epoch 36/50\n",
            "230/230 [==============================] - 26s 115ms/step - loss: 0.0105 - accuracy: 0.9585 - val_loss: 0.0220 - val_accuracy: 0.9182\n",
            "Epoch 37/50\n",
            "230/230 [==============================] - 26s 114ms/step - loss: 0.0106 - accuracy: 0.9592 - val_loss: 0.0223 - val_accuracy: 0.9155\n",
            "Epoch 38/50\n",
            "230/230 [==============================] - 26s 115ms/step - loss: 0.0105 - accuracy: 0.9603 - val_loss: 0.0223 - val_accuracy: 0.9148\n",
            "Epoch 39/50\n",
            "230/230 [==============================] - 26s 114ms/step - loss: 0.0106 - accuracy: 0.9592 - val_loss: 0.0220 - val_accuracy: 0.9152\n",
            "Epoch 40/50\n",
            "230/230 [==============================] - 26s 115ms/step - loss: 0.0106 - accuracy: 0.9582 - val_loss: 0.0229 - val_accuracy: 0.9179\n",
            "Epoch 41/50\n",
            "230/230 [==============================] - 26s 114ms/step - loss: 0.0106 - accuracy: 0.9591 - val_loss: 0.0228 - val_accuracy: 0.9162\n",
            "Epoch 42/50\n",
            "230/230 [==============================] - 26s 114ms/step - loss: 0.0105 - accuracy: 0.9587 - val_loss: 0.0234 - val_accuracy: 0.9192\n",
            "Epoch 43/50\n",
            "230/230 [==============================] - 26s 113ms/step - loss: 0.0105 - accuracy: 0.9581 - val_loss: 0.0226 - val_accuracy: 0.9145\n",
            "Epoch 44/50\n",
            "230/230 [==============================] - 26s 115ms/step - loss: 0.0105 - accuracy: 0.9595 - val_loss: 0.0226 - val_accuracy: 0.9138\n",
            "Epoch 45/50\n",
            "230/230 [==============================] - 26s 115ms/step - loss: 0.0104 - accuracy: 0.9591 - val_loss: 0.0233 - val_accuracy: 0.9189\n",
            "Epoch 46/50\n",
            "230/230 [==============================] - 26s 115ms/step - loss: 0.0106 - accuracy: 0.9599 - val_loss: 0.0227 - val_accuracy: 0.9141\n",
            "Epoch 47/50\n",
            "230/230 [==============================] - 26s 114ms/step - loss: 0.0106 - accuracy: 0.9584 - val_loss: 0.0229 - val_accuracy: 0.9155\n",
            "Epoch 48/50\n",
            "230/230 [==============================] - 26s 115ms/step - loss: 0.0106 - accuracy: 0.9588 - val_loss: 0.0223 - val_accuracy: 0.9158\n",
            "Epoch 49/50\n",
            "230/230 [==============================] - 26s 115ms/step - loss: 0.0104 - accuracy: 0.9597 - val_loss: 0.0229 - val_accuracy: 0.9172\n",
            "Epoch 50/50\n",
            "230/230 [==============================] - 26s 115ms/step - loss: 0.0104 - accuracy: 0.9588 - val_loss: 0.0233 - val_accuracy: 0.9162\n"
          ],
          "name": "stdout"
        }
      ]
    },
    {
      "cell_type": "markdown",
      "metadata": {
        "id": "XUFQRMqqOwCw"
      },
      "source": [
        "\n",
        "Figure 28​\n",
        "\n",
        "\n",
        "\n"
      ]
    },
    {
      "cell_type": "code",
      "metadata": {
        "colab": {
          "base_uri": "https://localhost:8080/"
        },
        "id": "F6OkC8iCibv9",
        "outputId": "6d9afd6f-2ad5-4d36-c4ec-f4b9e60190e0"
      },
      "source": [
        "\n",
        "model.evaluate(testX, testy)"
      ],
      "execution_count": null,
      "outputs": [
        {
          "output_type": "stream",
          "text": [
            "93/93 [==============================] - 7s 80ms/step - loss: 0.0233 - accuracy: 0.9162\n"
          ],
          "name": "stdout"
        },
        {
          "output_type": "execute_result",
          "data": {
            "text/plain": [
              "[0.02329675294458866, 0.9161859750747681]"
            ]
          },
          "metadata": {
            "tags": []
          },
          "execution_count": 118
        }
      ]
    },
    {
      "cell_type": "code",
      "metadata": {
        "id": "4SSwjCUMoQYl"
      },
      "source": [
        "import numpy as np"
      ],
      "execution_count": null,
      "outputs": []
    },
    {
      "cell_type": "code",
      "metadata": {
        "colab": {
          "base_uri": "https://localhost:8080/"
        },
        "id": "iBYw1gi-n_d9",
        "outputId": "22904988-a910-4719-d54c-d471e1c85dda"
      },
      "source": [
        "np.argmax(model.predict(testX), axis=-1)"
      ],
      "execution_count": null,
      "outputs": [
        {
          "output_type": "execute_result",
          "data": {
            "text/plain": [
              "array([4, 4, 4, ..., 1, 1, 1])"
            ]
          },
          "metadata": {
            "tags": []
          },
          "execution_count": 119
        }
      ]
    },
    {
      "cell_type": "code",
      "metadata": {
        "colab": {
          "base_uri": "https://localhost:8080/",
          "height": 530
        },
        "id": "IPx3YkUFpkWI",
        "outputId": "66a885a2-0b70-4e66-afbb-6a941503327e"
      },
      "source": [
        "mat = confusion_matrix(testr , r_pred)\n",
        "plot_confusion_matrix(conf_mat = mat , figsize=(10,8))"
      ],
      "execution_count": null,
      "outputs": [
        {
          "output_type": "execute_result",
          "data": {
            "text/plain": [
              "(<Figure size 720x576 with 1 Axes>,\n",
              " <matplotlib.axes._subplots.AxesSubplot at 0x7f3551ab4a90>)"
            ]
          },
          "metadata": {
            "tags": []
          },
          "execution_count": 120
        },
        {
          "output_type": "display_data",
          "data": {
            "image/png": "[encoded data removed]",
            "text/plain": [
              "<Figure size 720x576 with 1 Axes>"
            ]
          },
          "metadata": {
            "tags": [],
            "needs_background": "light"
          }
        }
      ]
    },
    {
      "cell_type": "code",
      "metadata": {
        "colab": {
          "base_uri": "https://localhost:8080/",
          "height": 295
        },
        "id": "7eo3cKUTqine",
        "outputId": "c7feeae1-b863-452b-b889-31d09bca0080"
      },
      "source": [
        "plt.figure(figsize=(6, 4))\n",
        "plt.plot(history.history['accuracy'],'r', label='Accuracy of training data')\n",
        "plt.plot(history.history['val_accuracy'],'g', label='Accuracy of validation data')\n",
        "plt.title('Model Accuracy')\n",
        "plt.xlabel('Epochs')\n",
        "plt.ylabel('Accuracy')\n",
        "plt.legend(loc='lower right')\n",
        "plt.show()"
      ],
      "execution_count": null,
      "outputs": [
        {
          "output_type": "display_data",
          "data": {
            "image/png": "[encoded data removed]",
            "text/plain": [
              "<Figure size 432x288 with 1 Axes>"
            ]
          },
          "metadata": {
            "tags": [],
            "needs_background": "light"
          }
        }
      ]
    },
    {
      "cell_type": "code",
      "metadata": {
        "colab": {
          "base_uri": "https://localhost:8080/",
          "height": 295
        },
        "id": "p7s0F5rnqsSP",
        "outputId": "b864b437-4bd3-4a76-b16c-d66ab034e375"
      },
      "source": [
        "plt.figure(figsize=(6, 4))\n",
        "plt.plot(history.history['loss'],'r', label='Loss of training data')\n",
        "plt.plot(history.history['val_loss'],'g', label='Loss of validation data')\n",
        "plt.title('Model Loss')\n",
        "plt.xlabel('Epochs')\n",
        "plt.ylabel('Loss')\n",
        "plt.legend(loc='upper right')\n",
        "plt.show()"
      ],
      "execution_count": null,
      "outputs": [
        {
          "output_type": "display_data",
          "data": {
            "image/png": "[encoded data removed]",
            "text/plain": [
              "<Figure size 432x288 with 1 Axes>"
            ]
          },
          "metadata": {
            "tags": [],
            "needs_background": "light"
          }
        }
      ]
    },
    {
      "cell_type": "code",
      "metadata": {
        "colab": {
          "base_uri": "https://localhost:8080/"
        },
        "id": "g-AmZEmtq0Iz",
        "outputId": "ad3f9470-521a-49b7-d7a1-962cd80f29a1"
      },
      "source": [
        "from sklearn.metrics import classification_report\n",
        "y_pred = model.predict(testX)\n",
        "y_pred_classes = [np.argmax(element) for element in y_pred]\n",
        "print('\\nClassification Report\\n')\n",
        "print(classification_report(testr, y_pred_classes, target_names=[\"WALKING\", \"WALKING_UPSTAIRS\", \"WALKING_DOWNSTAIRS\", \"SITTING\", \"STANDING\", \"LAYING\"]))\n"
      ],
      "execution_count": null,
      "outputs": [
        {
          "output_type": "stream",
          "text": [
            "\n",
            "Classification Report\n",
            "\n",
            "                    precision    recall  f1-score   support\n",
            "\n",
            "           WALKING       0.96      0.93      0.95       496\n",
            "  WALKING_UPSTAIRS       0.98      0.95      0.96       471\n",
            "WALKING_DOWNSTAIRS       0.91      0.99      0.95       420\n",
            "           SITTING       0.84      0.78      0.81       491\n",
            "          STANDING       0.81      0.85      0.83       532\n",
            "            LAYING       1.00      1.00      1.00       537\n",
            "\n",
            "          accuracy                           0.92      2947\n",
            "         macro avg       0.92      0.92      0.92      2947\n",
            "      weighted avg       0.92      0.92      0.92      2947\n",
            "\n"
          ],
          "name": "stdout"
        }
      ]
    },
    {
      "cell_type": "code",
      "metadata": {
        "id": "V-lEiET1o2DM"
      },
      "source": [
        ""
      ],
      "execution_count": null,
      "outputs": []
    }
  ]
}